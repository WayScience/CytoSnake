{
 "cells": [
  {
   "cell_type": "code",
   "execution_count": 2,
   "metadata": {},
   "outputs": [],
   "source": [
    "import pathlib\n",
    "from dataclasses import dataclass"
   ]
  },
  {
   "cell_type": "code",
   "execution_count": 40,
   "metadata": {},
   "outputs": [],
   "source": [
    "@dataclass\n",
    "class DataFiles:\n",
    "    \"\"\"Structured datatype representation that contains all files in a selected dataset\n",
    "\n",
    "    Attributes:\n",
    "    -----------\n",
    "    metdata: str\n",
    "        path to metdata directory\n",
    "    plate_data: list[str]\n",
    "        list of plate data (parque or sqlite files)\n",
    "\n",
    "\n",
    "    \"\"\"\n",
    "\n",
    "    dataset_dir: str | pathlib.Path\n",
    "\n",
    "    # extracted files\n",
    "    metadata: str = None\n",
    "    plate_data: list[str] = None\n",
    "    barcode: str = None\n",
    "\n",
    "    # extracting file paths and setting into dataclass attributes\n",
    "    def __post_init__(self):\n",
    "        self._extract_content_files()\n",
    "\n",
    "    def _extract_content_files(self):\n",
    "        \"\"\"extracts all files within given dataset folder and sets the DataFile dataclass \n",
    "        attributes\n",
    "\n",
    "        Raises\n",
    "        ------\n",
    "        TypeError\n",
    "            raised if dataset_dir is not a str or pathlib.Path object.\n",
    "            raised if plate data is not parquet or sqlite file\n",
    "        \"\"\"\n",
    "        accepted_plate_ext = (\"parquet\", \"sqlite\")\n",
    "\n",
    "        # get all top level files\n",
    "        if not isinstance(self.dataset_dir, (str, pathlib.Path)):\n",
    "            raise TypeError(\n",
    "                \"dataset_dir must be a string or pathlib.Path object\"\n",
    "            )\n",
    "        if isinstance(self.dataset_dir, str):\n",
    "            self.dataset_dir = pathlib.Path(self.dataset_dir).resolve(\n",
    "                strict=True\n",
    "            )\n",
    "\n",
    "        # get all files\n",
    "        all_files = list(self.dataset_dir.glob(\"*\"))\n",
    "\n",
    "        # get data files \n",
    "        plate_data = [str(fpath.name) for fpath in all_files if fpath.suffix == \".parquet\" or fpath.suffix == \".sqlite\"]\n",
    "        self.plate_data = plate_data\n",
    "\n",
    "        # get metadata_dir\n",
    "        meta_data_path = [str(fpath.name) for fpath in all_files if fpath.is_dir()]\n",
    "        self.metadata = meta_data_path[0]\n",
    "\n",
    "        # get barcode \n",
    "        barcode_path = [str(fpath.name) for fpath in all_files if fpath.suffix == \".txt\"]\n",
    "        self.barcode = barcode_path[0]\n",
    "\n",
    "        "
   ]
  },
  {
   "cell_type": "code",
   "execution_count": 41,
   "metadata": {},
   "outputs": [
    {
     "data": {
      "text/plain": [
       "PosixPath('/home/erikserrano/Development/CytoSnake/cytosnake/tests/functional/datasets/standard_sqlite')"
      ]
     },
     "execution_count": 41,
     "metadata": {},
     "output_type": "execute_result"
    }
   ],
   "source": [
    "data_test = pathlib.Path(\"./datasets/standard_sqlite\").resolve(strict=True)\n",
    "data_test"
   ]
  },
  {
   "cell_type": "code",
   "execution_count": 42,
   "metadata": {},
   "outputs": [],
   "source": [
    "df = DataFiles(dataset_dir=data_test)"
   ]
  },
  {
   "cell_type": "code",
   "execution_count": 45,
   "metadata": {},
   "outputs": [
    {
     "data": {
      "text/plain": [
       "'metadata'"
      ]
     },
     "execution_count": 45,
     "metadata": {},
     "output_type": "execute_result"
    }
   ],
   "source": [
    "\n",
    "df.metadata"
   ]
  },
  {
   "cell_type": "code",
   "execution_count": null,
   "metadata": {},
   "outputs": [],
   "source": []
  },
  {
   "cell_type": "code",
   "execution_count": null,
   "metadata": {},
   "outputs": [],
   "source": []
  }
 ],
 "metadata": {
  "kernelspec": {
   "display_name": "cytosnake",
   "language": "python",
   "name": "python3"
  },
  "language_info": {
   "codemirror_mode": {
    "name": "ipython",
    "version": 3
   },
   "file_extension": ".py",
   "mimetype": "text/x-python",
   "name": "python",
   "nbconvert_exporter": "python",
   "pygments_lexer": "ipython3",
   "version": "3.11.2"
  },
  "orig_nbformat": 4
 },
 "nbformat": 4,
 "nbformat_minor": 2
}
